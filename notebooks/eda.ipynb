import pandas as pd
import matplotlib.pyplot as plt
import seaborn as sns
import json

sns.set(style="whitegrid")
plt.rcParams["figure.figsize"] = (10, 6)

data_folder = "./data/"

users_df = pd.read_csv(data_folder + "users_df.csv")
items_df = pd.read_csv(data_folder + "items_df.csv")
train_part = pd.read_csv(data_folder + "train_data.csv", parse_dates=["datetime"])
test_part = pd.read_csv(data_folder + "test_data.csv")
countries = pd.read_csv(data_folder + "countries.csv")
genres = pd.read_csv(data_folder + "genres.csv")

# 1. Общая информация о данных
print("Users DataFrame Info:")
users_df.info()
print("\nItems DataFrame Info:")
items_df.info()
print("\nTrain DataFrame Info:")
train_part.info()

# 2. Анализ данных о пользователях
print("\nUsers DataFrame Description:")
print(users_df.describe(include="all"))

# Распределение возрастных категорий
plt.figure(figsize=(8, 6))
age_categories_order = ["18-24", "25-34", "35-44", "45-54", "55-70"]
sns.countplot(data=users_df, x="age_category", palette="coolwarm")
plt.xticks(ticks=range(len(age_categories_order)), labels=age_categories_order)
plt.title("Распределение пользователей по возрастным категориям")
plt.show()

# Распределение пользователей по уровню дохода
plt.figure(figsize=(8, 6))
sns.countplot(data=users_df, x="income", palette="viridis")
plt.title("Распределение пользователей по уровню дохода")
plt.show()

# 3. Анализ данных о фильмах
print("\nItems DataFrame Description:")
print(items_df.describe(include="all"))

# Топ-10 жанров
items_df['genres'] = items_df['genres'].apply(lambda x: json.loads(x) if isinstance(x, str) else [])
genre_count = pd.Series([genre for sublist in items_df['genres'] for genre in sublist]).value_counts()[:10]

# Создание словаря для замены id жанров на названия
genre_mapping = genres.set_index('id')['name'].to_dict()
genre_count.index = genre_count.index.map(genre_mapping)

plt.figure(figsize=(10, 6))
sns.barplot(x=genre_count.index, y=genre_count.values, palette="magma")
plt.title("Топ-10 жанров")
plt.show()

# Топ-10 стран
items_df['countries'] = items_df['countries'].apply(lambda x: json.loads(x) if isinstance(x, str) else [])
country_count = pd.Series([country for sublist in items_df['countries'] for country in sublist]).value_counts()[:10]

# Создание словаря для замены id стран на названия
country_mapping = countries.set_index('id')['name'].to_dict()
country_count.index = country_count.index.map(country_mapping)

plt.figure(figsize=(10, 6))
sns.barplot(x=country_count.index, y=country_count.values, palette="magma")
plt.title("Топ-10 стран производителей")
plt.show()

# 4. Анализ данных взаимодействий (train_data)
# Время просмотра
train_part['datetime'] = pd.to_datetime(train_part['datetime'], format='%Y-%m-%d %H:%M:%S%z', errors='coerce')
train_part['hour'] = train_part['datetime'].dt.hour

# Взаимодействие пользователей с фильмами по длительности
plt.figure(figsize=(10, 6))
sns.histplot(train_part['duration'], bins=50, kde=True, color="darkblue")
plt.title("Распределение длительности просмотра")
plt.show()

# 5. Корреляционный анализ для числовых признаков
# Преобразуем возрастные категории в числовые значения для корреляционного анализа
age_category_mapping = {
    "18-24": 1,
    "25-34": 2,
    "35-44": 3,
    "45-54": 4,
    "55-70": 5,
}
users_df["age_category_numeric"] = users_df["age_category"].map(age_category_mapping)

education_mapping = {
    "Без образования": 0,
    "Среднее": 1,
    "Неполное высшее": 2,
    "Высшее": 3,
}
users_df["education_numeric"] = users_df["education"].map(education_mapping)

sex_mapping = {
    "Женский": 0,
    "Мужской": 1,
}
users_df["sex_numeric"] = users_df["sex"].map(sex_mapping)

income_mapping = {
    "низкий": 0,
    "средний": 1,
    "высокий": 2,
    "очень высокий": 3,
}
users_df["income_numeric"] = users_df["income"].map(income_mapping)

columns_for_correlation = ["age_category_numeric", "sex_numeric", "income_numeric", "education_numeric"]

# Визуализация корреляций в данных о пользователях
plt.figure(figsize=(10, 8))
sns.heatmap(users_df[columns_for_correlation].corr(), annot=True, cmap="coolwarm", vmin=-1, vmax=1)
plt.title("Корреляции в данных о пользователях")
plt.show()
