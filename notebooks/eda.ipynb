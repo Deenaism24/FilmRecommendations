import pandas as pd
import matplotlib.pyplot as plt

data_folder = "./data/"

users_df = pd.read_csv(data_folder + "users_df.csv")
items_df = pd.read_csv(data_folder + "items_df.csv")

countries = pd.read_csv(data_folder + "countries.csv")
genres = pd.read_csv(data_folder + "genres.csv")
staff = pd.read_csv(data_folder + "staff.csv")

train_part = pd.read_csv(data_folder + "train_data.csv", parse_dates=["datetime"])
test_part = pd.read_csv(data_folder + "test_data.csv")
test_part = test_part.groupby("user_id").agg({"movie_id": list}).reset_index()

# Анализ пользователей
print(users_df.describe())
# Анализ айтемов
print(items_df.describe())
# Анализ просмотров
print(train_part.describe())