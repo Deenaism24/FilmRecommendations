import pandas as pd
from src.models import TopPopular, ALS
from src.evaluation import evaluate_recommender
import pickle

# Обучение TopPopular
tp = TopPopular()
tp.fit(train_part)
test_part["toppopular_recs"] = tp.predict(test_part)
tp_metrics = evaluate_recommender(df=test_part, model_preds="toppopular_recs")
print(f"TopPopular metrics: {tp_metrics}")

# Обучение ALS
als_rec = ALS(iterations=15, factors=100, random_state=42)
als_rec.fit(train_part)
test_part["als_recs"] = als_rec.predict(test_part)
als_metrics = evaluate_recommender(test_part, model_preds="als_recs")
print(f"ALS metrics: {als_metrics}")

# Сравнение метрик моделей
metrics_df = pd.DataFrame([tp_metrics, als_metrics], index=["TopPopular", "ALS"])

# Построение графика метрик
metrics_df.plot(kind='bar', figsize=(10, 6))
plt.title("Сравнение метрик моделей")
plt.ylabel("Значение метрики")
plt.xticks(rotation=0)
plt.legend(title="Метрики")
plt.show()

# Визуализация рекомендаций для TopPopular
all_tp_recs = test_part['toppopular_recs'].explode()  # Разворачиваем список рекомендаций
tp_recs_count = all_tp_recs.value_counts()

plt.figure(figsize=(10, 6))
sns.histplot(tp_recs_count, bins=30, kde=False)
plt.title("Распределение рекомендаций для TopPopular")
plt.xlabel("ID фильма")
plt.ylabel("Количество рекомендаций")
plt.show()

# Визуализация рекомендаций для ALS
all_als_recs = test_part['als_recs'].explode()
als_recs_count = all_als_recs.value_counts()

plt.figure(figsize=(10, 6))
sns.histplot(als_recs_count, bins=30, kde=False, color='green')
plt.title("Распределение рекомендаций для ALS")
plt.xlabel("ID фильма")
plt.ylabel("Количество рекомендаций")
plt.show()

# Сохранение лучшей модели
best_model = als_rec
with open("./saved_models/best_model.pkl", "wb") as f:
    pickle.dump(best_model, f)