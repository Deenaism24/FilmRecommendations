import pandas as pd
from src.preprocess import preprocess_users
from src.models import TopPopular, ALS
from src.evaluation import evaluate_recommender
import pickle

data_folder = "./data/"

users_df = pd.read_csv(data_folder + "users_df.csv")
items_df = pd.read_csv(data_folder + "items_df.csv")
train_part = pd.read_csv(data_folder + "train_data.csv", parse_dates=["datetime"])
test_part = pd.read_csv(data_folder + "test_data.csv")
test_part = test_part.groupby("user_id").agg({"movie_id": list}).reset_index()

countries = pd.read_csv(data_folder + "countries.csv")
genres = pd.read_csv(data_folder + "genres.csv")
staff = pd.read_csv(data_folder + "staff.csv")

# Препроцессинг пользователей
users_df, label_encoders = preprocess_users(users_df)

# ---- Обучение и оценка моделей ----
# 1. Топ Популярных фильмов
print("Training TopPopular model...")
tp = TopPopular(time_decay_factor=0.8)
tp.fit(train_part)

test_part['toppopular_recs'] = tp.predict(test_part)

# Оценка метрик
tp_metrics = evaluate_recommender(df=test_part, model_preds_col='toppopular_recs')
print(f"TopPopular metrics: {tp_metrics}")

# Сохранение модели TopPopular в формате pkl
with open("./saved_models/toppopular_model.pkl", "wb") as file:
    pickle.dump(tp, file)

# 2. Модель ALS (Alternating Least Squares)
print("Training ALS model...")
als_model = ALS(factors=63, regularization=0.01, iterations=15)
als_model.fit(train_part)

test_part['als_recs'] = als_model.predict(test_part)

# Оценка метрик
als_metrics = evaluate_recommender(df=test_part, model_preds_col='als_recs')
print(f"ALS metrics: {als_metrics}")

# Сохранение модели ALS в формате pkl
with open("./saved_models/als_model.pkl", "wb") as file:
    pickle.dump(als_model, file)
